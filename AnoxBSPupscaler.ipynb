{
 "cells": [
  {
   "cell_type": "markdown",
   "id": "f0051a9e-722a-474f-a7d2-fa8d6355d9d4",
   "metadata": {
    "tags": []
   },
   "source": [
    "ANACHRONOX BSP UPSCALE PREPARER\n",
    "\n",
    "About the notebook:\n",
    "\n",
    "As discussed in this moddb article (https://www.moddb.com/mods/anachronox-graphical-enhancements/news/upscaling-anachronox-with-esrgan)\n",
    "there are hurdles when it comes to using high res textures for Anachronox' level architecture. In short: The game is able to load higher \n",
    "res textures, but doesn't squish them down so they occupy the same space as their low res counterparts. \n",
    "\n",
    "Three theoretical solutions where proposed to this problem. The one implemented in this notebook is a variation of the first:\n",
    "\n",
    "The idea is to decompile the original .bsp files back to the .map format used when crafting levels. Then use a level editor to fix \n",
    "all textures by hand and then recomplile to create versions that work with scaled textures instead of the original ones.\n",
    "\n",
    "Instead of decompiling the bsps, this notebook changes the texture projection data directly in the bsp file. It's the same procedure\n",
    "for every textured face of the level so it can be easily automated.\n",
    "\n",
    "ATTENTION:\n",
    "A bsp modified by this notebook will have messed up lightmaps. To fix this fetch \"arad3.exe\" from the official Anachronox modding tools\n",
    "(https://www.moddb.com/games/anachronox/downloads/anachronox-modding-tools) and make it rebuild the lightmaps.\n",
    "\n",
    "Use it with the follwing commandline (where yourfile.bsp is to be substituted with your bsp, duh! :) ) to fix the issue:\n",
    "\n",
    "arad3 -threads 4 -chop 256 -bounce 0 yourfile.bsp  \n",
    "\n",
    "\n",
    "----\n"
   ]
  },
  {
   "cell_type": "markdown",
   "id": "f816dcaa-d274-4f8d-b5e9-981b9eb364d8",
   "metadata": {},
   "source": [
    "USER INPUT:"
   ]
  },
  {
   "cell_type": "code",
   "execution_count": null,
   "id": "090f3cb6-7b0e-41bb-8419-fe2dc46e371f",
   "metadata": {},
   "outputs": [],
   "source": [
    "# change to the filename of your bsp:\n",
    "mapname = 'whacks.bsp' \n",
    "\n",
    "# change to your input and output path (remember to use \\\\ instead of \\ because of pyhtons sting conventions):\n",
    "input_path = 'E:\\\\Spiele\\\\Steam\\\\SteamApps\\\\common\\\\Anachronox\\\\anoxdata\\\\maps\\\\' \n",
    "output_path = 'E:\\\\Spiele\\\\Steam\\\\SteamApps\\\\common\\\\Anachronox\\\\anoxdata\\\\maps\\\\scaled\\\\' \n",
    "\n",
    "# change to the desired texture-scaling factor you want to use. (2 for 2x textures 4 for 4x etc):\n",
    "scaler = 4 "
   ]
  },
  {
   "cell_type": "markdown",
   "id": "a120ec2b-ece2-485e-91aa-5141b85ab024",
   "metadata": {},
   "source": [
    "----\n",
    "\n",
    "PROCESS:"
   ]
  },
  {
   "cell_type": "code",
   "execution_count": 66,
   "id": "58351518-b909-41c6-94c6-fce804a0de2c",
   "metadata": {
    "tags": []
   },
   "outputs": [],
   "source": [
    "#Open the BSP:\n",
    "\n",
    "file = open(input_path + mapname,'rb')\n"
   ]
  },
  {
   "cell_type": "code",
   "execution_count": 68,
   "id": "7cff091b-1681-4548-b989-b2b0366adfdd",
   "metadata": {
    "tags": []
   },
   "outputs": [],
   "source": [
    "#read the whole bsp into memory\n",
    "bsp = bytearray(file.read())\n",
    "\n"
   ]
  },
  {
   "cell_type": "code",
   "execution_count": 69,
   "id": "b9e81b7a-57de-4049-a9dd-ac399b8413f3",
   "metadata": {
    "tags": []
   },
   "outputs": [],
   "source": [
    "#fetch bsp header data\n",
    "#Does a bit more than needed. Theoretically going directly\n",
    "#for the \"texinfo\" stuff would be enough. \n",
    "file.seek(0)\n",
    "\n",
    "magic = file.read(4)\n",
    "version = int.from_bytes(file.read(4), byteorder='little')\n",
    "\n",
    "entities_offset = int.from_bytes(file.read(4), byteorder='little')\n",
    "entities_length = int.from_bytes(file.read(4), byteorder='little')\n",
    "\n",
    "planes_offset = int.from_bytes(file.read(4), byteorder='little')\n",
    "planes_length = int.from_bytes(file.read(4), byteorder='little')\n",
    "\n",
    "vertices_offset = int.from_bytes(file.read(4), byteorder='little')\n",
    "vertices_length = int.from_bytes(file.read(4), byteorder='little')\n",
    "\n",
    "visibility_offset = int.from_bytes(file.read(4), byteorder='little')\n",
    "visibility_length = int.from_bytes(file.read(4), byteorder='little')\n",
    "\n",
    "nodes_offset = int.from_bytes(file.read(4), byteorder='little')\n",
    "nodes_length = int.from_bytes(file.read(4), byteorder='little')\n",
    "\n",
    "texinfo_offset = int.from_bytes(file.read(4), byteorder='little')\n",
    "texinfo_length = int.from_bytes(file.read(4), byteorder='little')\n",
    "\n",
    "faces_offset = int.from_bytes(file.read(4), byteorder='little')\n",
    "faces_length = int.from_bytes(file.read(4), byteorder='little')\n",
    "\n",
    "lightmaps_offset = int.from_bytes(file.read(4), byteorder='little')\n",
    "lightmaps_length = int.from_bytes(file.read(4), byteorder='little')\n",
    "\n",
    "leaves_offset = int.from_bytes(file.read(4), byteorder='little')\n",
    "leaves_length = int.from_bytes(file.read(4), byteorder='little')\n",
    "\n",
    "leaffacetable_offset = int.from_bytes(file.read(4), byteorder='little')\n",
    "leaffacetable_length = int.from_bytes(file.read(4), byteorder='little')\n",
    "\n",
    "leafbrushtable_offset = int.from_bytes(file.read(4), byteorder='little')\n",
    "leafbrushtable_length = int.from_bytes(file.read(4), byteorder='little')\n",
    "\n",
    "edges_offset = int.from_bytes(file.read(4), byteorder='little')\n",
    "edges_length = int.from_bytes(file.read(4), byteorder='little')\n",
    "\n",
    "faceedgetable_offset = int.from_bytes(file.read(4), byteorder='little')\n",
    "faceedgetable_length = int.from_bytes(file.read(4), byteorder='little')\n",
    "\n",
    "models_offset = int.from_bytes(file.read(4), byteorder='little')\n",
    "models_length = int.from_bytes(file.read(4), byteorder='little')\n",
    "\n",
    "brushes_offset = int.from_bytes(file.read(4), byteorder='little')\n",
    "brushes_length = int.from_bytes(file.read(4), byteorder='little')\n",
    "\n",
    "brushsides_offset = int.from_bytes(file.read(4), byteorder='little')\n",
    "brushsides_length = int.from_bytes(file.read(4), byteorder='little')\n",
    "\n",
    "pop_offset = int.from_bytes(file.read(4), byteorder='little')\n",
    "pop_length = int.from_bytes(file.read(4), byteorder='little')\n",
    "\n",
    "areas_offset = int.from_bytes(file.read(4), byteorder='little')\n",
    "areas_length = int.from_bytes(file.read(4), byteorder='little')\n",
    "\n",
    "araportals_offset = int.from_bytes(file.read(4), byteorder='little')\n",
    "araportals_length = int.from_bytes(file.read(4), byteorder='little')\n",
    "file.close()"
   ]
  },
  {
   "cell_type": "code",
   "execution_count": 70,
   "id": "465b05d6-ac3b-40ab-a976-88f7e3000475",
   "metadata": {
    "tags": []
   },
   "outputs": [],
   "source": [
    "#This is the function used later to \n",
    "#actually scale the different texture \n",
    "#mapping variables.\n",
    "#\n",
    "#Assumes that a bsp is open at 'bsp'\n",
    "#\n",
    "#Grabs four bytes from 'offset',\n",
    "#inrerprets them as float,\n",
    "#multiplys their value by 'scaler'\n",
    "#replaces the original value inside 'bsp'\n",
    "\n",
    "import struct #needed for conversion of raw bytes to float and vice versa\n",
    "\n",
    "def scale_float(offset, scaler):\n",
    "\n",
    "    #take four bytes:\n",
    "    a = bsp[offset + 0]\n",
    "    b = bsp[offset + 1]\n",
    "    c = bsp[offset + 2]\n",
    "    d = bsp[offset + 3]\n",
    "\n",
    "    #put them into bytes:\n",
    "    temp = bytes([a,b,c,d])\n",
    "\n",
    "    #convert bytes to float:\n",
    "    u_axis = struct.unpack('f',temp)[0]\n",
    "\n",
    "    #multiply float:\n",
    "    u_axis = u_axis * scaler\n",
    "\n",
    "    #convert float back to bytes:\n",
    "    temp = bytes(struct.pack(\"f\",u_axis))\n",
    "\n",
    "    bsp[offset + 0] = temp[0]\n",
    "    bsp[offset + 1] = temp[1]\n",
    "    bsp[offset + 2] = temp[2]\n",
    "    bsp[offset + 3] = temp[3]\n"
   ]
  },
  {
   "cell_type": "code",
   "execution_count": 75,
   "id": "d27cb18e-ec7e-4bbb-b561-efccd5cd29bd",
   "metadata": {
    "tags": []
   },
   "outputs": [],
   "source": [
    "#Finally: The loop\n",
    "\n",
    "#The texture_info lump of a bsp file is composed of \n",
    "#76 bytes long chunks. One for each textured face\n",
    "#in the level. Each chunk contains the uv-data for \n",
    "#the face as well as the name of the texture. We are \n",
    "#only interested in the uv data. It is composed of\n",
    "#8 float values:\n",
    "#\n",
    "# The first three are interpreted as vector for the \n",
    "# u-axis, the forth contains the u-offset and the \n",
    "# next four do the same for the v componets.\n",
    "# Prepearing the level for upscaled texutres is as \n",
    "# easy as upscaling this floats by the desired value.\n",
    "#\n",
    "#More detailed info about the BSP format can be found here:\n",
    "#\n",
    "# https://www.flipcode.com/archives/Quake_2_BSP_File_Format.shtml\n",
    "#\n",
    "#(And yes: It probably also works om Quake 2 BSPs. Both games use\n",
    "#same BST version.)\n",
    "\n",
    "#Detemine the number of texinfo chunks the level uses:\n",
    "num_of_texinfos = int(texinfo_length / 76) \n",
    "\n",
    "#And get loopie:\n",
    "for i in range(0, num_of_texinfos):   \n",
    "    \n",
    "    offset = texinfo_offset + (i * 76)\n",
    "    \n",
    "    scale_float(offset + 0 , scaler)  #scale u_axis(x)\n",
    "    scale_float(offset + 4 , scaler)  #scale u_axis(y)\n",
    "    scale_float(offset + 8 , scaler)  #scale u_axis(z)\n",
    "    \n",
    "    scale_float(offset + 12, scaler)  #scale u_offset\n",
    "    \n",
    "    scale_float(offset + 16, scaler)  #scale v_axis(x)\n",
    "    scale_float(offset + 20, scaler)  #scale v_axis(y)\n",
    "    scale_float(offset + 24, scaler)  #scale v_axis(z)\n",
    "    \n",
    "    scale_float(offset + 28, scaler)  #scale v_offset\n",
    "    \n",
    "    \n",
    "    "
   ]
  },
  {
   "cell_type": "code",
   "execution_count": 72,
   "id": "3294872e-f144-496c-9179-bd2df5b4ec94",
   "metadata": {
    "tags": []
   },
   "outputs": [],
   "source": [
    "#Save the new BSP:\n",
    "outputfile = open(output_path + mapname, 'wb')\n",
    "outputfile.write(bsp)\n",
    "outputfile.close()"
   ]
  }
 ],
 "metadata": {
  "kernelspec": {
   "display_name": "Python 3 (ipykernel)",
   "language": "python",
   "name": "python3"
  },
  "language_info": {
   "codemirror_mode": {
    "name": "ipython",
    "version": 3
   },
   "file_extension": ".py",
   "mimetype": "text/x-python",
   "name": "python",
   "nbconvert_exporter": "python",
   "pygments_lexer": "ipython3",
   "version": "3.9.7"
  }
 },
 "nbformat": 4,
 "nbformat_minor": 5
}
